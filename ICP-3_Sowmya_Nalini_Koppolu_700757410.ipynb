{
 "cells": [
  {
   "cell_type": "code",
   "execution_count": 1,
   "id": "39ba45c5",
   "metadata": {},
   "outputs": [
    {
     "name": "stdout",
     "output_type": "stream",
     "text": [
      "Do you want to add an employee? (yes/no): yes\n",
      "Enter name: Sathish\n",
      "Enter family: sappam\n",
      "Enter salary: 65000\n",
      "Enter department: technical\n",
      "Do you want to add an employee? (yes/no): yes\n",
      "Enter name: aparna\n",
      "Enter family: kannam\n",
      "Enter salary: 70000\n",
      "Enter department: frontend\n",
      "Do you want to add an employee? (yes/no): no\n",
      "Do you want to add a full-time employee? (yes/no): yes\n",
      "Enter name: Sowmya Nalini\n",
      "Enter family: Koppolu\n",
      "Enter salary: 100000\n",
      "Enter department: backend\n",
      "Do you want to add a full-time employee? (yes/no): yes\n",
      "Enter name: Naveen\n",
      "Enter family: chava\n",
      "Enter salary: 95000\n",
      "Enter department: technical\n",
      "Do you want to add a full-time employee? (yes/no): no\n",
      "Total employees: 4\n",
      "Average Salary: 82500.0\n"
     ]
    }
   ],
   "source": [
    "'''1. Create a class Employee and then do the following\n",
    "• Create a data member to count the number of Employees\n",
    "• Create a constructor to initialize name, family, salary, department\n",
    "• Create a function to average salary\n",
    "• Create a Fulltime Employee class and it should inherit the properties of Employee class\n",
    "• Create the instances of Fulltime Employee class and Employee class and call their member functions. '''\n",
    "\n",
    "\n",
    "class Employee:\n",
    "    employee_count = 0 \n",
    "\n",
    "    def __init__(self, name, family, salary, department):\n",
    "        self.name = name\n",
    "        self.family = family\n",
    "        self.salary = salary\n",
    "        self.department = department\n",
    "        Employee.employee_count += 1\n",
    "\n",
    "    def average_salary(self, total_salary):\n",
    "        return total_salary / Employee.employee_count\n",
    "\n",
    "\n",
    "class FulltimeEmployee(Employee):\n",
    "    def __init__(self, name, family, salary, department):\n",
    "        super().__init__(name, family, salary, department)\n",
    "\n",
    "\n",
    "def input_employee_details():\n",
    "    name = input(\"Enter name: \")\n",
    "    family = input(\"Enter family: \")\n",
    "    salary = float(input(\"Enter salary: \"))\n",
    "    department = input(\"Enter department: \")\n",
    "    return name, family, salary, department\n",
    "\n",
    "\n",
    "employees = []\n",
    "while True:\n",
    "    create_employee = input(\"Do you want to add an employee? (yes/no): \").lower()\n",
    "    if create_employee != 'yes':\n",
    "        break\n",
    "    employees.append(Employee(*input_employee_details()))\n",
    "\n",
    "fulltime_employees = []\n",
    "while True:\n",
    "    create_fulltime_employee = input(\"Do you want to add a full-time employee? (yes/no): \").lower()\n",
    "    if create_fulltime_employee != 'yes':\n",
    "        break\n",
    "    fulltime_employees.append(FulltimeEmployee(*input_employee_details()))\n",
    "\n",
    "\n",
    "total_salary = sum(employee.salary for employee in employees) + sum(fulltime_employee.salary for fulltime_employee in fulltime_employees)\n",
    "average_salary = employees[0].average_salary(total_salary) if employees else 0  \n",
    "print(f\"Total employees: {Employee.employee_count}\")\n",
    "print(f\"Average Salary: {average_salary}\")\n"
   ]
  },
  {
   "cell_type": "code",
   "execution_count": 3,
   "id": "e540881f",
   "metadata": {},
   "outputs": [
    {
     "name": "stdout",
     "output_type": "stream",
     "text": [
      "Original Random Vector:\n",
      "[20.07816937  5.8775968   0.         10.68424284 15.92705868 16.34391838\n",
      "  8.94442509 12.98009685 10.31799509  0.          2.45970601  5.78330619\n",
      "  4.91143008  3.08860841  0.          9.07818049 17.44541124  0.\n",
      " 18.08653533 12.98148103]\n",
      "\n",
      "Reshaped Array (4 by 5):\n",
      "[[20.07816937  5.8775968   0.         10.68424284 15.92705868]\n",
      " [16.34391838  8.94442509 12.98009685 10.31799509  0.        ]\n",
      " [ 2.45970601  5.78330619  4.91143008  3.08860841  0.        ]\n",
      " [ 9.07818049 17.44541124  0.         18.08653533 12.98148103]]\n"
     ]
    }
   ],
   "source": [
    "'''Numpy\n",
    "Using NumPy create random vector of size 20 having only float in the range 1-20.\n",
    "Then reshape the array to 4 by 5\n",
    "Then replace the max in each row by 0 (axis=1)\n",
    "(you can NOT implement it via for loop) '''\n",
    "\n",
    "import numpy as np\n",
    "\n",
    "random_vector = np.random.uniform(1, 21, 20)\n",
    "\n",
    "reshaped_array = random_vector.reshape(4, 5)\n",
    "\n",
    "reshaped_array[np.arange(4), reshaped_array.argmax(axis=1)] = 0\n",
    "\n",
    "print(\"Original Random Vector:\")\n",
    "print(random_vector)\n",
    "print(\"\\nReshaped Array (4 by 5):\")\n",
    "print(reshaped_array)\n"
   ]
  },
  {
   "cell_type": "code",
   "execution_count": null,
   "id": "809d1d61",
   "metadata": {},
   "outputs": [],
   "source": []
  }
 ],
 "metadata": {
  "kernelspec": {
   "display_name": "Python 3 (ipykernel)",
   "language": "python",
   "name": "python3"
  },
  "language_info": {
   "codemirror_mode": {
    "name": "ipython",
    "version": 3
   },
   "file_extension": ".py",
   "mimetype": "text/x-python",
   "name": "python",
   "nbconvert_exporter": "python",
   "pygments_lexer": "ipython3",
   "version": "3.11.5"
  }
 },
 "nbformat": 4,
 "nbformat_minor": 5
}
